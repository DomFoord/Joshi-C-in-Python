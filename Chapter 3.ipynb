{
 "cells": [
  {
   "cell_type": "markdown",
   "metadata": {},
   "source": [
    "## Chapter 3"
   ]
  },
  {
   "cell_type": "markdown",
   "metadata": {},
   "source": [
    "In this Chapter, we introduce inheritance to deal with the issue of how to increase the number of Payoff classes."
   ]
  },
  {
   "cell_type": "code",
   "execution_count": 1,
   "metadata": {},
   "outputs": [],
   "source": [
    "import pandas as pd, numpy as np"
   ]
  },
  {
   "cell_type": "code",
   "execution_count": 3,
   "metadata": {},
   "outputs": [],
   "source": [
    "from math import exp, sqrt, log\n",
    "from random import random"
   ]
  },
  {
   "cell_type": "markdown",
   "metadata": {},
   "source": [
    "Parent Class:"
   ]
  },
  {
   "cell_type": "code",
   "execution_count": 4,
   "metadata": {},
   "outputs": [],
   "source": [
    "class PayOff():\n",
    "    def __init__(self):\n",
    "        pass\n",
    "    \n",
    "    def __call__(self,Spot):\n",
    "        pass"
   ]
  },
  {
   "cell_type": "markdown",
   "metadata": {},
   "source": [
    "Inherited Classes:"
   ]
  },
  {
   "cell_type": "code",
   "execution_count": 9,
   "metadata": {},
   "outputs": [],
   "source": [
    "class PayOffCall(PayOff):\n",
    "    def __init__(self,Strike_):\n",
    "        self.__Strike = Strike_\n",
    "        \n",
    "    def __call__(self,Spot):\n",
    "        return max(Spot - self.__Strike,0)"
   ]
  },
  {
   "cell_type": "code",
   "execution_count": 6,
   "metadata": {},
   "outputs": [],
   "source": [
    "class PayOffPut(PayOff):\n",
    "    def __init__(self,Strike_):\n",
    "        self.__Strike = Strike_\n",
    "        \n",
    "    def __call__(self,Spot):\n",
    "        return max(self.__Strike - Spot,0)"
   ]
  },
  {
   "cell_type": "code",
   "execution_count": 11,
   "metadata": {},
   "outputs": [],
   "source": [
    "def SimpleMonteCarlo2(thePayOff, Expiry, Spot, Vol, r, NumberOfPaths):\n",
    "    variance = Vol*Vol*Expiry\n",
    "    rootVariance = sqrt(variance)\n",
    "    itoCorrection = -0.5*variance\n",
    "    \n",
    "    movedSpot = Spot*exp(r*Expiry+itoCorrection)\n",
    "    thisSpot = 0\n",
    "    runningSum = 0\n",
    "    \n",
    "    for i in range(NumberOfPaths):\n",
    "        thisGaussian = np.random.normal()\n",
    "        thisSpot = movedSpot*exp(rootVariance*thisGaussian)\n",
    "        thisPayOff = thePayOff(thisSpot) \n",
    "        runningSum += thisPayOff\n",
    "    \n",
    "    mean = runningSum/NumberOfPaths\n",
    "    mean *= exp(-r*Expiry)\n",
    "    return mean"
   ]
  },
  {
   "cell_type": "code",
   "execution_count": 14,
   "metadata": {},
   "outputs": [],
   "source": [
    "callPayOff = PayOffCall(40)\n",
    "putPayOff = PayOffPut(40)\n",
    "df = pd.DataFrame(columns=['Call Price','Put Price','No. of Paths'])"
   ]
  },
  {
   "cell_type": "code",
   "execution_count": 16,
   "metadata": {},
   "outputs": [],
   "source": [
    "for i in range(1,200,10):\n",
    "    i = i*i\n",
    "    callPrice = SimpleMonteCarlo2(callPayOff,0.5,42,0.2,0.1,10000)\n",
    "    putPrice = SimpleMonteCarlo2(putPayOff,0.5,42,0.2,0.1,10000)\n",
    "    df.loc[i] = pd.Series({'Call Price':format(callPrice,'.2f'), 'Put Price':format(putPrice, '.2f'), 'No. of Paths':format(i,'.0f')})"
   ]
  },
  {
   "cell_type": "code",
   "execution_count": 17,
   "metadata": {},
   "outputs": [
    {
     "data": {
      "text/html": [
       "<div>\n",
       "<style scoped>\n",
       "    .dataframe tbody tr th:only-of-type {\n",
       "        vertical-align: middle;\n",
       "    }\n",
       "\n",
       "    .dataframe tbody tr th {\n",
       "        vertical-align: top;\n",
       "    }\n",
       "\n",
       "    .dataframe thead th {\n",
       "        text-align: right;\n",
       "    }\n",
       "</style>\n",
       "<table border=\"1\" class=\"dataframe\">\n",
       "  <thead>\n",
       "    <tr style=\"text-align: right;\">\n",
       "      <th></th>\n",
       "      <th>Call Price</th>\n",
       "      <th>Put Price</th>\n",
       "      <th>No. of Paths</th>\n",
       "    </tr>\n",
       "  </thead>\n",
       "  <tbody>\n",
       "    <tr>\n",
       "      <th>1</th>\n",
       "      <td>4.78</td>\n",
       "      <td>0.80</td>\n",
       "      <td>1</td>\n",
       "    </tr>\n",
       "    <tr>\n",
       "      <th>121</th>\n",
       "      <td>4.72</td>\n",
       "      <td>0.78</td>\n",
       "      <td>121</td>\n",
       "    </tr>\n",
       "    <tr>\n",
       "      <th>441</th>\n",
       "      <td>4.78</td>\n",
       "      <td>0.79</td>\n",
       "      <td>441</td>\n",
       "    </tr>\n",
       "    <tr>\n",
       "      <th>961</th>\n",
       "      <td>4.71</td>\n",
       "      <td>0.81</td>\n",
       "      <td>961</td>\n",
       "    </tr>\n",
       "    <tr>\n",
       "      <th>1681</th>\n",
       "      <td>4.78</td>\n",
       "      <td>0.80</td>\n",
       "      <td>1681</td>\n",
       "    </tr>\n",
       "    <tr>\n",
       "      <th>2601</th>\n",
       "      <td>4.66</td>\n",
       "      <td>0.81</td>\n",
       "      <td>2601</td>\n",
       "    </tr>\n",
       "    <tr>\n",
       "      <th>3721</th>\n",
       "      <td>4.78</td>\n",
       "      <td>0.80</td>\n",
       "      <td>3721</td>\n",
       "    </tr>\n",
       "    <tr>\n",
       "      <th>5041</th>\n",
       "      <td>4.71</td>\n",
       "      <td>0.80</td>\n",
       "      <td>5041</td>\n",
       "    </tr>\n",
       "    <tr>\n",
       "      <th>6561</th>\n",
       "      <td>4.76</td>\n",
       "      <td>0.78</td>\n",
       "      <td>6561</td>\n",
       "    </tr>\n",
       "    <tr>\n",
       "      <th>8281</th>\n",
       "      <td>4.76</td>\n",
       "      <td>0.83</td>\n",
       "      <td>8281</td>\n",
       "    </tr>\n",
       "    <tr>\n",
       "      <th>10201</th>\n",
       "      <td>4.82</td>\n",
       "      <td>0.85</td>\n",
       "      <td>10201</td>\n",
       "    </tr>\n",
       "    <tr>\n",
       "      <th>12321</th>\n",
       "      <td>4.79</td>\n",
       "      <td>0.81</td>\n",
       "      <td>12321</td>\n",
       "    </tr>\n",
       "    <tr>\n",
       "      <th>14641</th>\n",
       "      <td>4.72</td>\n",
       "      <td>0.81</td>\n",
       "      <td>14641</td>\n",
       "    </tr>\n",
       "    <tr>\n",
       "      <th>17161</th>\n",
       "      <td>4.75</td>\n",
       "      <td>0.85</td>\n",
       "      <td>17161</td>\n",
       "    </tr>\n",
       "    <tr>\n",
       "      <th>19881</th>\n",
       "      <td>4.73</td>\n",
       "      <td>0.81</td>\n",
       "      <td>19881</td>\n",
       "    </tr>\n",
       "    <tr>\n",
       "      <th>22801</th>\n",
       "      <td>4.74</td>\n",
       "      <td>0.83</td>\n",
       "      <td>22801</td>\n",
       "    </tr>\n",
       "    <tr>\n",
       "      <th>25921</th>\n",
       "      <td>4.68</td>\n",
       "      <td>0.81</td>\n",
       "      <td>25921</td>\n",
       "    </tr>\n",
       "    <tr>\n",
       "      <th>29241</th>\n",
       "      <td>4.70</td>\n",
       "      <td>0.82</td>\n",
       "      <td>29241</td>\n",
       "    </tr>\n",
       "    <tr>\n",
       "      <th>32761</th>\n",
       "      <td>4.77</td>\n",
       "      <td>0.83</td>\n",
       "      <td>32761</td>\n",
       "    </tr>\n",
       "    <tr>\n",
       "      <th>36481</th>\n",
       "      <td>4.81</td>\n",
       "      <td>0.84</td>\n",
       "      <td>36481</td>\n",
       "    </tr>\n",
       "  </tbody>\n",
       "</table>\n",
       "</div>"
      ],
      "text/plain": [
       "      Call Price Put Price No. of Paths\n",
       "1           4.78      0.80            1\n",
       "121         4.72      0.78          121\n",
       "441         4.78      0.79          441\n",
       "961         4.71      0.81          961\n",
       "1681        4.78      0.80         1681\n",
       "2601        4.66      0.81         2601\n",
       "3721        4.78      0.80         3721\n",
       "5041        4.71      0.80         5041\n",
       "6561        4.76      0.78         6561\n",
       "8281        4.76      0.83         8281\n",
       "10201       4.82      0.85        10201\n",
       "12321       4.79      0.81        12321\n",
       "14641       4.72      0.81        14641\n",
       "17161       4.75      0.85        17161\n",
       "19881       4.73      0.81        19881\n",
       "22801       4.74      0.83        22801\n",
       "25921       4.68      0.81        25921\n",
       "29241       4.70      0.82        29241\n",
       "32761       4.77      0.83        32761\n",
       "36481       4.81      0.84        36481"
      ]
     },
     "execution_count": 17,
     "metadata": {},
     "output_type": "execute_result"
    }
   ],
   "source": [
    "df"
   ]
  }
 ],
 "metadata": {
  "kernelspec": {
   "display_name": "Python 3",
   "language": "python",
   "name": "python3"
  },
  "language_info": {
   "codemirror_mode": {
    "name": "ipython",
    "version": 3
   },
   "file_extension": ".py",
   "mimetype": "text/x-python",
   "name": "python",
   "nbconvert_exporter": "python",
   "pygments_lexer": "ipython3",
   "version": "3.8.5"
  }
 },
 "nbformat": 4,
 "nbformat_minor": 4
}
