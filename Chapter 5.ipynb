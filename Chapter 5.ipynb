{
 "cells": [
  {
   "cell_type": "markdown",
   "metadata": {},
   "source": [
    "## Chapter 5"
   ]
  },
  {
   "cell_type": "markdown",
   "metadata": {},
   "source": [
    "Statistics Gatherer"
   ]
  },
  {
   "cell_type": "markdown",
   "metadata": {},
   "source": [
    "Most of this chapter is now accomplished using pandas/numpy in Python, however we follow the book in any case as a challenge."
   ]
  },
  {
   "cell_type": "code",
   "execution_count": 12,
   "metadata": {},
   "outputs": [],
   "source": [
    "import numpy as np\n",
    "from copy import deepcopy\n",
    "import random\n",
    "import math"
   ]
  },
  {
   "cell_type": "code",
   "execution_count": 2,
   "metadata": {},
   "outputs": [],
   "source": [
    "class StatisticsMC:\n",
    "    def __init__(self):\n",
    "        pass\n",
    "    \n",
    "    def GetResultsSoFar(self):\n",
    "        pass\n",
    "    \n",
    "    def DumpOneResult(self,result):\n",
    "        pass        \n",
    "  \n",
    "    def clone(self):\n",
    "        pass\n",
    "    \n",
    "    def __del__(self):\n",
    "        pass   "
   ]
  },
  {
   "cell_type": "markdown",
   "metadata": {},
   "source": [
    "We implement the mean: Of course we can also implement the median, mode etc."
   ]
  },
  {
   "cell_type": "code",
   "execution_count": 3,
   "metadata": {},
   "outputs": [],
   "source": [
    "class StatisticsMean(StatisticsMC):\n",
    "    def __init__(self):\n",
    "        self.__RunningSum = 0\n",
    "        self.__PathsDone = 0\n",
    "        \n",
    "    def GetResultsSoFar(self): \n",
    "        Results = [[0]]\n",
    "        Results[0][0] = self.__RunningSum / self.__PathsDone\n",
    "        return Results\n",
    "    \n",
    "    def DumpOneResult(self,result):\n",
    "        self.__PathsDone += 1\n",
    "        self.__RunningSum += result        \n",
    "        \n",
    "    def clone(self):\n",
    "        return deepcopy(self)\n",
    "    \n",
    "    def __del__(self):\n",
    "        del self"
   ]
  },
  {
   "cell_type": "code",
   "execution_count": 5,
   "metadata": {},
   "outputs": [
    {
     "data": {
      "text/plain": [
       "[[63.0]]"
      ]
     },
     "execution_count": 5,
     "metadata": {},
     "output_type": "execute_result"
    }
   ],
   "source": [
    "mean = StatisticsMean()\n",
    "mean.DumpOneResult(76)\n",
    "mean.DumpOneResult(50)\n",
    "mean.GetResultsSoFar()"
   ]
  },
  {
   "cell_type": "markdown",
   "metadata": {},
   "source": [
    "We incorparate this with our previously written pricer."
   ]
  },
  {
   "cell_type": "code",
   "execution_count": 13,
   "metadata": {},
   "outputs": [],
   "source": [
    "from random import random\n",
    "from math import exp, sqrt, log"
   ]
  },
  {
   "cell_type": "code",
   "execution_count": 6,
   "metadata": {},
   "outputs": [],
   "source": [
    "class PayOff():\n",
    "    def __init__(self):\n",
    "        pass\n",
    "    \n",
    "    def __call__(self,Spot):\n",
    "        pass    \n",
    "\n",
    "class PayOffBridge():        \n",
    "    def __del__(self):\n",
    "        del self\n",
    "        \n",
    "    def copy(self,InnerPayOff):\n",
    "        from copy import deepcopy\n",
    "        self = deepcopy(InnerPayOff)\n",
    "        \n",
    "class PayOffCall(PayOff,PayOffBridge):\n",
    "    def __init__(self,Strike_):\n",
    "        self.__Strike = Strike_\n",
    "        \n",
    "    def __call__(self,Spot):\n",
    "        return max(Spot - self.__Strike,0)\n",
    "    \n",
    "class VanillaOption:\n",
    "    def __init__(self, ThePayOff_, Expiry_):\n",
    "        self.__ThePayOff = ThePayOff_\n",
    "        self.__Expiry = Expiry_\n",
    "        \n",
    "    def GetExpiry(self):\n",
    "        return self.__Expiry\n",
    "    \n",
    "    def OptionPayOff(self, Spot):\n",
    "        return self.__ThePayOff(Spot)"
   ]
  },
  {
   "cell_type": "code",
   "execution_count": 7,
   "metadata": {},
   "outputs": [],
   "source": [
    "class ParametersInner:\n",
    "    def __init__(self):\n",
    "        pass\n",
    "    \n",
    "    def Integral(self,time1, time2):\n",
    "        pass\n",
    "    \n",
    "    def IntegralSquare(self,time1,time2):\n",
    "        pass\n",
    "\n",
    "class Parameters:    \n",
    "    def RootMeanSquare(self,time1,time2):\n",
    "        total = self.Integral(time1,time2)\n",
    "        return total/(time2-time1)\n",
    "    \n",
    "    def Mean(self,time1, time2):\n",
    "        total = self.Integral(time1,time2)\n",
    "        return total/(time2-time1)\n",
    "    \n",
    "    def copy(self,original):\n",
    "        from copy import deepcopy\n",
    "        self = deepcopy(InnerPayOff) \n",
    "        \n",
    "    def __del__(self):\n",
    "        del self    \n",
    "        \n",
    "class ParametersConstant(ParametersInner,Parameters):\n",
    "    def __init__(self,constant):\n",
    "        self.__Constant = constant\n",
    "        self.__ConstantSquare = self.__Constant*self.__Constant\n",
    "    \n",
    "    def Integral(self, time1, time2):\n",
    "        return (time2 - time1)*self.__Constant\n",
    "    \n",
    "    def IntegralSquare(self, time1, time2):\n",
    "        return (time2 - time1)*self.__ConstantSquare   \n"
   ]
  },
  {
   "cell_type": "code",
   "execution_count": 15,
   "metadata": {},
   "outputs": [],
   "source": [
    "def SimpleMonteCarlo5(TheOption,\n",
    "                     Spot,\n",
    "                     Vol,\n",
    "                     r,\n",
    "                     NumberOfPaths,\n",
    "                     gatherer):\n",
    "    \n",
    "    Expiry = TheOption.GetExpiry()    \n",
    "    variance = Vol.IntegralSquare(0,Expiry)\n",
    "    rootVariance = sqrt(variance)\n",
    "    itoCorrection = -0.5*variance\n",
    "    \n",
    "    movedSpot = Spot*exp(r.Integral(0,Expiry) + itoCorrection)\n",
    "    discounting = exp(-r.Integral(0,Expiry))\n",
    "    for i in range(NumberOfPaths):\n",
    "        thisGaussian = np.random.normal()\n",
    "        thisSpot = movedSpot*exp(rootVariance*thisGaussian)\n",
    "        thisPayoff = TheOption.OptionPayOff(thisSpot)\n",
    "        gatherer.DumpOneResult(thisPayoff*discounting)"
   ]
  },
  {
   "cell_type": "code",
   "execution_count": 16,
   "metadata": {
    "scrolled": true
   },
   "outputs": [
    {
     "name": "stdout",
     "output_type": "stream",
     "text": [
      "Call price for 10000 paths: \n",
      "4.802691563567282\n"
     ]
    }
   ],
   "source": [
    "gatherer = StatisticsMean()\n",
    "callPayOff = PayOffCall(40)\n",
    "TheOption = VanillaOption(callPayOff,0.5)\n",
    "r = ParametersConstant(0.1)\n",
    "Vol = ParametersConstant(0.2)\n",
    "SimpleMonteCarlo5(TheOption,42,Vol,r,10000, gatherer)\n",
    "results = gatherer.GetResultsSoFar()\n",
    "print(f'Call price for 10000 paths: ')\n",
    "for i in range(len(results)):\n",
    "    for j in range(len(results[i])):\n",
    "        print(results[i][j])"
   ]
  },
  {
   "cell_type": "markdown",
   "metadata": {},
   "source": [
    "Convergence Tables:"
   ]
  },
  {
   "cell_type": "code",
   "execution_count": 18,
   "metadata": {},
   "outputs": [],
   "source": [
    "class ConvergenceTable(StatisticsMC):\n",
    "    def __init__(self, Inner_):\n",
    "        self.__Inner = Inner_\n",
    "        self.__ResultsSoFar = []\n",
    "        self.__StoppingPoint = 2\n",
    "        self.__PathsDone = 0\n",
    "    \n",
    "    def clone(self):\n",
    "        return deepcopy(self)\n",
    "    \n",
    "    def DumpOneResult(self,result):\n",
    "        self.__Inner.DumpOneResult(result)\n",
    "        self.__PathsDone += 1\n",
    "        \n",
    "        \n",
    "        if self.__PathsDone == self.__StoppingPoint:\n",
    "            self.__StoppingPoint *=2\n",
    "            thisResult = self.__Inner.GetResultsSoFar()            \n",
    "            \n",
    "            for i in range(len(thisResult)):\n",
    "                thisResult[i].append(self.__PathsDone)\n",
    "                self.__ResultsSoFar.append(thisResult[i]) \n",
    "\n",
    "            \n",
    "    \n",
    "    def GetResultsSoFar(self):\n",
    "        \n",
    "        tmp = self.__ResultsSoFar \n",
    "        \n",
    "        if self.__PathsDone*2 != self.__StoppingPoint:\n",
    "            thisResult = self.__Inner.GetResultsSoFar()\n",
    "            \n",
    "            for i in range(len(thisResult)):\n",
    "                thisResult[i].append(self.__PathsDone)\n",
    "                tmp.append(thisResult[i]) \n",
    "                \n",
    "        return tmp\n",
    "                "
   ]
  },
  {
   "cell_type": "code",
   "execution_count": 19,
   "metadata": {},
   "outputs": [
    {
     "name": "stdout",
     "output_type": "stream",
     "text": [
      "Call price for 10000 paths: \n",
      "3.124848511062993\n",
      "2\n",
      "2.977979205525093\n",
      "4\n",
      "3.8659198129741275\n",
      "8\n",
      "4.705512218885523\n",
      "16\n",
      "3.9664684850097567\n",
      "32\n",
      "4.870194691708492\n",
      "64\n",
      "4.964282591475483\n",
      "128\n",
      "4.516461033654419\n",
      "256\n",
      "4.557417670020879\n",
      "512\n",
      "4.730401530384945\n",
      "1024\n",
      "4.838829816282456\n",
      "2048\n",
      "4.816182359936459\n",
      "4096\n",
      "4.804562216215163\n",
      "8192\n",
      "4.772231421069234\n",
      "10000\n"
     ]
    }
   ],
   "source": [
    "gatherer = StatisticsMean()\n",
    "gathererTwo = ConvergenceTable(gatherer)\n",
    "callPayOff = PayOffCall(40)\n",
    "TheOption = VanillaOption(callPayOff,0.5)\n",
    "r = ParametersConstant(0.1)\n",
    "Vol = ParametersConstant(0.2)\n",
    "SimpleMonteCarlo5(TheOption,42,Vol,r,10000, gathererTwo)\n",
    "results = gathererTwo.GetResultsSoFar()\n",
    "print(f'Call price for 10000 paths: ')\n",
    "for i in range(len(results)):\n",
    "    for j in range(len(results[i])):\n",
    "        print(results[i][j])"
   ]
  },
  {
   "cell_type": "markdown",
   "metadata": {},
   "source": [
    "We build the above to work with the first 4 moments."
   ]
  },
  {
   "cell_type": "code",
   "execution_count": null,
   "metadata": {},
   "outputs": [],
   "source": [
    "class StatisticsFirstFourMoments(StatisticsMC):\n",
    "    def __init__(self):\n",
    "        self.__RunningSum = 0\n",
    "        self.__RunningSumDifferenceSquared\n",
    "        self.__RunningSumSquared = 0\n",
    "        self.__PathsDone = 0\n",
    "        self.__M2 = 0\n",
    "        self.__M3 = 0\n",
    "        self.__M4 = 0        \n",
    "        \n",
    "        \n",
    "    def GetResultsSoFar(self): \n",
    "        Results = [[0,0,0,0]]\n",
    "        Results[0][0] = self.__RunningSum / self.__PathsDone # mean\n",
    "        Results[0][1] =(self.__RunningSumSquared - self.__RunningSum*self.__RunningSum/self.__PathsDone)/(self.__PathsDone-1) #sample variance\n",
    "        Results[0][2] = sqrt(self.__PathsDone)*self.__M3 / (self.__M2*sqrt(self.__M2)) # skewness\n",
    "        Results[0][3] = (self.__PathsDone*self.__M4) / (self.__M2*self.__M2) - 3 # kurtosis\n",
    "        return Results\n",
    "    \n",
    "    def DumpOneResult(self,result):\n",
    "        self.__PathsDone += 1\n",
    "        self.__RunningSum += result\n",
    "        self.__RunningSumSquared += result*result\n",
    "        delta = result - self.__RunningSum/self.__PathsDone\n",
    "        delta_n = delta/self.__PathsDone\n",
    "        delta_n2 = delta_n*delta_n\n",
    "        term1 = delta*delta_n*(self.__PathsDone - 1)\n",
    "        self.__M4 = self.__M4 + term1*delta_n2*(self.__PathsDone*self.__PathsDone\n",
    "                                                - 3*self.__PathsDone + 3)+ 6*delta_n2*self.__M2 -4 *delta_n*self.__M3\n",
    "        self.__M3 = self.__M3 + term1 * delta_n * (self.__PathsDone - 2) - 3 * delta_n * self.__M2\n",
    "        self.__M2 = self.__M2 + term1\n",
    "        \n",
    "    def clone(self):\n",
    "        return deepcopy(self)\n",
    "    \n",
    "    def __del__(self):\n",
    "        del self        "
   ]
  },
  {
   "cell_type": "code",
   "execution_count": null,
   "metadata": {},
   "outputs": [],
   "source": []
  }
 ],
 "metadata": {
  "kernelspec": {
   "display_name": "Python 3",
   "language": "python",
   "name": "python3"
  },
  "language_info": {
   "codemirror_mode": {
    "name": "ipython",
    "version": 3
   },
   "file_extension": ".py",
   "mimetype": "text/x-python",
   "name": "python",
   "nbconvert_exporter": "python",
   "pygments_lexer": "ipython3",
   "version": "3.8.5"
  }
 },
 "nbformat": 4,
 "nbformat_minor": 4
}
