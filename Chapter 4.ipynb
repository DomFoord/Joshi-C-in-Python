{
 "cells": [
  {
   "cell_type": "markdown",
   "metadata": {},
   "source": [
    "# Chapter 4"
   ]
  },
  {
   "cell_type": "markdown",
   "metadata": {},
   "source": [
    "We unify the pay-off and maturity inside a single class."
   ]
  },
  {
   "cell_type": "markdown",
   "metadata": {},
   "source": [
    "A First Solution:"
   ]
  },
  {
   "cell_type": "code",
   "execution_count": 7,
   "metadata": {},
   "outputs": [],
   "source": [
    "from random import random\n",
    "from math import exp, sqrt, log\n",
    "import numpy as np\n",
    "import pandas as pd"
   ]
  },
  {
   "cell_type": "code",
   "execution_count": 8,
   "metadata": {},
   "outputs": [],
   "source": [
    "class VanillaOption():\n",
    "    def __init__(self,ThePayOff_,Expiry_):\n",
    "        self.__ThePayOff = ThePayOff_\n",
    "        self.__Expiry = Expiry_\n",
    "        \n",
    "    def GetExpiry(self):\n",
    "        return self.__Expiry\n",
    "    \n",
    "    def OptionPayOff(self,Spot):\n",
    "        return self.__ThePayOff(Spot)"
   ]
  },
  {
   "cell_type": "code",
   "execution_count": 9,
   "metadata": {},
   "outputs": [],
   "source": [
    "def SimpleMonteCarlo3(TheOption,\n",
    "                     Spot,\n",
    "                     Vol,\n",
    "                     r,\n",
    "                     NumberOfPaths):\n",
    "    \n",
    "    Expiry = TheOption.GetExpiry()\n",
    "    \n",
    "    variance = Vol*Vol*Expiry\n",
    "    rootVariance = sqrt(variance)\n",
    "    itoCorrection = -0.5*variance\n",
    "    \n",
    "    movedSpot = Spot*exp(r*Expiry + itoCorrection)\n",
    "    runningSum = 0\n",
    "    for i in range(NumberOfPaths):\n",
    "        thisGaussian = np.random.normal()\n",
    "        thisSpot = movedSpot*exp(rootVariance*thisGaussian)\n",
    "        thisPayoff = TheOption.OptionPayOff(thisSpot)\n",
    "        runningSum += thisPayoff\n",
    "    \n",
    "    mean = runningSum / NumberOfPaths\n",
    "    mean *= exp(-r*Expiry)\n",
    "    return mean      "
   ]
  },
  {
   "cell_type": "code",
   "execution_count": 10,
   "metadata": {},
   "outputs": [],
   "source": [
    "class PayOff():\n",
    "    def __init__(self):\n",
    "        pass\n",
    "    \n",
    "    def __call__(self,Spot):\n",
    "        pass    "
   ]
  },
  {
   "cell_type": "code",
   "execution_count": 11,
   "metadata": {},
   "outputs": [],
   "source": [
    "class PayOffCall(PayOff):\n",
    "    def __init__(self,Strike_):\n",
    "        self.__Strike = Strike_\n",
    "        \n",
    "    def __call__(self,Spot):\n",
    "        return max(Spot - self.__Strike,0)"
   ]
  },
  {
   "cell_type": "code",
   "execution_count": 12,
   "metadata": {},
   "outputs": [
    {
     "name": "stdout",
     "output_type": "stream",
     "text": [
      "Call price: 4.71, for 10000 paths\n"
     ]
    }
   ],
   "source": [
    "callPayOff = PayOffCall(40)\n",
    "TheOption = VanillaOption(callPayOff,0.5)\n",
    "callPrice = SimpleMonteCarlo3(TheOption,42,0.2,0.1,10000)\n",
    "print(f'Call price: {round(callPrice,2)}, for 10000 paths')"
   ]
  },
  {
   "cell_type": "markdown",
   "metadata": {},
   "source": [
    "At this point we build a bridge to build an object between the pay-off and the option class to add extra functionalities like memory management and other features."
   ]
  },
  {
   "cell_type": "code",
   "execution_count": 13,
   "metadata": {},
   "outputs": [],
   "source": [
    "class PayOffBridge():\n",
    "    def __init__(self,PayOff_):\n",
    "        self.__PayOff = PayOff_\n",
    "        \n",
    "    def __del__(self):\n",
    "        del self.__PayOff\n",
    "        \n",
    "    def copy(self,InnerPayOff):\n",
    "        from copy import deepcopy\n",
    "        self.__PayOff = deepcopy(InnerPayOff)\n",
    "\n",
    "    \n",
    "    def __call__(self,Spot):\n",
    "        return self.__PayOff(Spot)"
   ]
  },
  {
   "cell_type": "code",
   "execution_count": 14,
   "metadata": {},
   "outputs": [],
   "source": [
    "class VanillaOption():\n",
    "    def __init__(self, ThePayOff_, Expiry_):\n",
    "        self.__ThePayOff = ThePayOff_\n",
    "        self.__Expiry = Expiry_\n",
    "        \n",
    "    def GetExpiry(self):\n",
    "        return self.__Expiry\n",
    "    \n",
    "    def OptionPayOff(self, Spot):\n",
    "        return self.__ThePayOff(Spot)"
   ]
  },
  {
   "cell_type": "code",
   "execution_count": 15,
   "metadata": {},
   "outputs": [
    {
     "name": "stdout",
     "output_type": "stream",
     "text": [
      "Call price: 4.67, for 10000 paths\n"
     ]
    }
   ],
   "source": [
    "callPayOff = PayOffBridge(PayOffCall(40))\n",
    "TheOption = VanillaOption(callPayOff,0.5)\n",
    "callPrice = SimpleMonteCarlo3(TheOption,42,0.2,0.1,10000)\n",
    "print(f'Call price: {round(callPrice,2)}, for 10000 paths')"
   ]
  },
  {
   "cell_type": "code",
   "execution_count": 17,
   "metadata": {},
   "outputs": [],
   "source": [
    "class ParametersInner:\n",
    "    def __init__(self):\n",
    "        pass\n",
    "    \n",
    "    def Integral(self,time1, time2):\n",
    "        pass\n",
    "    \n",
    "    def IntegralSquare(self,time1,time2):\n",
    "        pass"
   ]
  },
  {
   "cell_type": "code",
   "execution_count": 18,
   "metadata": {},
   "outputs": [],
   "source": [
    "class ParametersConstant(ParametersInner):\n",
    "    def __init__(self,constant):\n",
    "        self.__Constant = constant\n",
    "        self.__ConstantSquare = self.__Constant*self.__Constant\n",
    "    \n",
    "    def Integral(self, time1, time2):\n",
    "        return (time2 - time1)*self.__Constant\n",
    "    \n",
    "    def IntegralSquare(self, time1, time2):\n",
    "        return (time2 - time1)*self.__ConstantSquare"
   ]
  },
  {
   "cell_type": "code",
   "execution_count": 19,
   "metadata": {},
   "outputs": [],
   "source": [
    "class Parameters:    \n",
    "    def RootMeanSquare(self,time1,time2):\n",
    "        total = self.Integral(time1,time2)\n",
    "        return total/(time2-time1)\n",
    "    \n",
    "    def Mean(self,time1, time2):\n",
    "        total = self.Integral(time1,time2)\n",
    "        return total/(time2-time1)\n",
    "    \n",
    "    def copy(self,original):\n",
    "        from copy import deepcopy\n",
    "        self = deepcopy(InnerPayOff) \n",
    "        \n",
    "    def __del__(self):\n",
    "        del self    "
   ]
  },
  {
   "cell_type": "code",
   "execution_count": 20,
   "metadata": {},
   "outputs": [],
   "source": [
    "class ParametersConstant(ParametersInner,Parameters):\n",
    "    def __init__(self,constant):\n",
    "        self.__Constant = constant\n",
    "        self.__ConstantSquare = self.__Constant*self.__Constant\n",
    "    \n",
    "    def Integral(self, time1, time2):\n",
    "        return (time2 - time1)*self.__Constant\n",
    "    \n",
    "    def IntegralSquare(self, time1, time2):\n",
    "        return (time2 - time1)*self.__ConstantSquare"
   ]
  },
  {
   "cell_type": "code",
   "execution_count": 21,
   "metadata": {},
   "outputs": [],
   "source": [
    "class PayOffBridge():\n",
    "        \n",
    "    def __del__(self):\n",
    "        del self\n",
    "        \n",
    "    def copy(self,InnerPayOff):\n",
    "        from copy import deepcopy\n",
    "        self = deepcopy(InnerPayOff)\n",
    "    \n"
   ]
  },
  {
   "cell_type": "code",
   "execution_count": 22,
   "metadata": {},
   "outputs": [],
   "source": [
    "class PayOffCall(PayOff,PayOffBridge):\n",
    "    def __init__(self,Strike_):\n",
    "        self.__Strike = Strike_\n",
    "        \n",
    "    def __call__(self,Spot):\n",
    "        return max(Spot - self.__Strike,0)"
   ]
  },
  {
   "cell_type": "code",
   "execution_count": 25,
   "metadata": {},
   "outputs": [],
   "source": [
    "def SimpleMonteCarlo4(TheOption,\n",
    "                     Spot,\n",
    "                     Vol,\n",
    "                     r,\n",
    "                     NumberOfPaths):\n",
    "    \n",
    "    Expiry = TheOption.GetExpiry()\n",
    "    \n",
    "    variance = Vol.IntegralSquare(0,Expiry)\n",
    "    rootVariance = sqrt(variance)\n",
    "    itoCorrection = -0.5*variance\n",
    "    \n",
    "    movedSpot = Spot*exp(r.Integral(0,Expiry) + itoCorrection)\n",
    "    runningSum = 0\n",
    "    for i in range(NumberOfPaths):\n",
    "        thisGaussian = np.random.normal()\n",
    "        thisSpot = movedSpot*exp(rootVariance*thisGaussian)\n",
    "        thisPayoff = TheOption.OptionPayOff(thisSpot)\n",
    "        runningSum += thisPayoff\n",
    "    \n",
    "    mean = runningSum / NumberOfPaths\n",
    "    mean *= exp(-r.Integral(0,Expiry))\n",
    "    return mean    "
   ]
  },
  {
   "cell_type": "code",
   "execution_count": 26,
   "metadata": {},
   "outputs": [
    {
     "name": "stdout",
     "output_type": "stream",
     "text": [
      "Call price: 4.69, for 10000 paths\n"
     ]
    }
   ],
   "source": [
    "callPayOff = PayOffCall(40)\n",
    "TheOption = VanillaOption(callPayOff,0.5)\n",
    "r = ParametersConstant(0.1)\n",
    "Vol = ParametersConstant(0.2)\n",
    "callPrice = SimpleMonteCarlo4(TheOption,42,Vol,r,10000)\n",
    "print(f'Call price: {round(callPrice,2)}, for 10000 paths')"
   ]
  }
 ],
 "metadata": {
  "kernelspec": {
   "display_name": "Python 3",
   "language": "python",
   "name": "python3"
  },
  "language_info": {
   "codemirror_mode": {
    "name": "ipython",
    "version": 3
   },
   "file_extension": ".py",
   "mimetype": "text/x-python",
   "name": "python",
   "nbconvert_exporter": "python",
   "pygments_lexer": "ipython3",
   "version": "3.8.5"
  }
 },
 "nbformat": 4,
 "nbformat_minor": 4
}
