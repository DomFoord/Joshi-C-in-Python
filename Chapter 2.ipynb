{
 "cells": [
  {
   "cell_type": "markdown",
   "metadata": {},
   "source": [
    "## Chapter 2"
   ]
  },
  {
   "cell_type": "markdown",
   "metadata": {},
   "source": [
    "In this Chapter, we refine our code through encapsulation - we create a class that can implement our first attempt at an options pricer."
   ]
  },
  {
   "cell_type": "code",
   "execution_count": 11,
   "metadata": {},
   "outputs": [],
   "source": [
    "import pandas as pd, numpy as np"
   ]
  },
  {
   "cell_type": "code",
   "execution_count": 19,
   "metadata": {},
   "outputs": [],
   "source": [
    "from math import exp, sqrt, log\n",
    "from random import random"
   ]
  },
  {
   "cell_type": "code",
   "execution_count": 13,
   "metadata": {},
   "outputs": [],
   "source": [
    "class PayOff():\n",
    "    def __init__(self,TheOptionsType_,Strike_):\n",
    "        # The constructor\n",
    "        self.__TheOptionsType = TheOptionsType_\n",
    "        self.__Strike = Strike_\n",
    "        \n",
    "    def __call__(self,spot):\n",
    "        # Overloading the ( ) operator\n",
    "        if self.__TheOptionsType == 'call':\n",
    "            return max(spot - self.__Strike,0)\n",
    "        elif self.__TheOptionsType == 'put':\n",
    "            return max(self.__Strike - spot,0)\n",
    "        else:\n",
    "            raise Exception('Unknown option type found.')\n"
   ]
  },
  {
   "cell_type": "code",
   "execution_count": 14,
   "metadata": {},
   "outputs": [
    {
     "name": "stdout",
     "output_type": "stream",
     "text": [
      "Call price: 20\n"
     ]
    }
   ],
   "source": [
    "call = PayOff('call',80)\n",
    "callPrice  = call(100)\n",
    "print(f'Call price: {callPrice}')"
   ]
  },
  {
   "cell_type": "code",
   "execution_count": 24,
   "metadata": {},
   "outputs": [],
   "source": [
    "def SimpleMonteCarlo2(thePayOff, Expiry, Spot, Vol, r, NumberOfPaths):\n",
    "    variance = Vol*Vol*Expiry\n",
    "    rootVariance = sqrt(variance)\n",
    "    itoCorrection = -0.5*variance\n",
    "    \n",
    "    movedSpot = Spot*exp(r*Expiry+itoCorrection)\n",
    "    thisSpot = 0\n",
    "    runningSum = 0\n",
    "    \n",
    "    for i in range(NumberOfPaths):\n",
    "        thisGaussian = np.random.normal()\n",
    "        thisSpot = movedSpot*exp(rootVariance*thisGaussian)\n",
    "        thisPayOff = thePayOff(thisSpot) \n",
    "        runningSum += thisPayOff\n",
    "    \n",
    "    mean = runningSum/NumberOfPaths\n",
    "    mean *= exp(-r*Expiry)\n",
    "    return mean"
   ]
  },
  {
   "cell_type": "code",
   "execution_count": 39,
   "metadata": {},
   "outputs": [],
   "source": [
    "df = pd.DataFrame(columns=['Call Price','Put Price','No. of Paths'])"
   ]
  },
  {
   "cell_type": "markdown",
   "metadata": {},
   "source": [
    "We run the same example as in Chapter 1 using our updated programme."
   ]
  },
  {
   "cell_type": "code",
   "execution_count": 40,
   "metadata": {},
   "outputs": [],
   "source": [
    "CallPayOff = PayOff('call',40)\n",
    "PutPayOff = PayOff('put',40)\n",
    "for i in range(1,200,10):\n",
    "    i = i*i\n",
    "    callPrice = SimpleMonteCarlo2(CallPayOff,0.5,42,0.2,0.1,10000)\n",
    "    putPrice = SimpleMonteCarlo2(PutPayOff,0.5,42,0.2,0.1,10000)\n",
    "    df.loc[i] = pd.Series({'Call Price':format(callPrice,'.2f'), 'Put Price':format(putPrice, '.2f'), 'No. of Paths':format(i,'.0f')})"
   ]
  },
  {
   "cell_type": "code",
   "execution_count": 41,
   "metadata": {},
   "outputs": [
    {
     "data": {
      "text/html": [
       "<div>\n",
       "<style scoped>\n",
       "    .dataframe tbody tr th:only-of-type {\n",
       "        vertical-align: middle;\n",
       "    }\n",
       "\n",
       "    .dataframe tbody tr th {\n",
       "        vertical-align: top;\n",
       "    }\n",
       "\n",
       "    .dataframe thead th {\n",
       "        text-align: right;\n",
       "    }\n",
       "</style>\n",
       "<table border=\"1\" class=\"dataframe\">\n",
       "  <thead>\n",
       "    <tr style=\"text-align: right;\">\n",
       "      <th></th>\n",
       "      <th>Call Price</th>\n",
       "      <th>Put Price</th>\n",
       "      <th>No. of Paths</th>\n",
       "    </tr>\n",
       "  </thead>\n",
       "  <tbody>\n",
       "    <tr>\n",
       "      <th>1</th>\n",
       "      <td>4.69</td>\n",
       "      <td>0.81</td>\n",
       "      <td>1</td>\n",
       "    </tr>\n",
       "    <tr>\n",
       "      <th>121</th>\n",
       "      <td>4.77</td>\n",
       "      <td>0.81</td>\n",
       "      <td>121</td>\n",
       "    </tr>\n",
       "    <tr>\n",
       "      <th>441</th>\n",
       "      <td>4.70</td>\n",
       "      <td>0.83</td>\n",
       "      <td>441</td>\n",
       "    </tr>\n",
       "    <tr>\n",
       "      <th>961</th>\n",
       "      <td>4.78</td>\n",
       "      <td>0.79</td>\n",
       "      <td>961</td>\n",
       "    </tr>\n",
       "    <tr>\n",
       "      <th>1681</th>\n",
       "      <td>4.80</td>\n",
       "      <td>0.82</td>\n",
       "      <td>1681</td>\n",
       "    </tr>\n",
       "    <tr>\n",
       "      <th>2601</th>\n",
       "      <td>4.76</td>\n",
       "      <td>0.82</td>\n",
       "      <td>2601</td>\n",
       "    </tr>\n",
       "    <tr>\n",
       "      <th>3721</th>\n",
       "      <td>4.82</td>\n",
       "      <td>0.81</td>\n",
       "      <td>3721</td>\n",
       "    </tr>\n",
       "    <tr>\n",
       "      <th>5041</th>\n",
       "      <td>4.76</td>\n",
       "      <td>0.82</td>\n",
       "      <td>5041</td>\n",
       "    </tr>\n",
       "    <tr>\n",
       "      <th>6561</th>\n",
       "      <td>4.78</td>\n",
       "      <td>0.77</td>\n",
       "      <td>6561</td>\n",
       "    </tr>\n",
       "    <tr>\n",
       "      <th>8281</th>\n",
       "      <td>4.77</td>\n",
       "      <td>0.86</td>\n",
       "      <td>8281</td>\n",
       "    </tr>\n",
       "    <tr>\n",
       "      <th>10201</th>\n",
       "      <td>4.69</td>\n",
       "      <td>0.81</td>\n",
       "      <td>10201</td>\n",
       "    </tr>\n",
       "    <tr>\n",
       "      <th>12321</th>\n",
       "      <td>4.76</td>\n",
       "      <td>0.82</td>\n",
       "      <td>12321</td>\n",
       "    </tr>\n",
       "    <tr>\n",
       "      <th>14641</th>\n",
       "      <td>4.81</td>\n",
       "      <td>0.79</td>\n",
       "      <td>14641</td>\n",
       "    </tr>\n",
       "    <tr>\n",
       "      <th>17161</th>\n",
       "      <td>4.77</td>\n",
       "      <td>0.82</td>\n",
       "      <td>17161</td>\n",
       "    </tr>\n",
       "    <tr>\n",
       "      <th>19881</th>\n",
       "      <td>4.78</td>\n",
       "      <td>0.76</td>\n",
       "      <td>19881</td>\n",
       "    </tr>\n",
       "    <tr>\n",
       "      <th>22801</th>\n",
       "      <td>4.77</td>\n",
       "      <td>0.80</td>\n",
       "      <td>22801</td>\n",
       "    </tr>\n",
       "    <tr>\n",
       "      <th>25921</th>\n",
       "      <td>4.82</td>\n",
       "      <td>0.82</td>\n",
       "      <td>25921</td>\n",
       "    </tr>\n",
       "    <tr>\n",
       "      <th>29241</th>\n",
       "      <td>4.87</td>\n",
       "      <td>0.83</td>\n",
       "      <td>29241</td>\n",
       "    </tr>\n",
       "    <tr>\n",
       "      <th>32761</th>\n",
       "      <td>4.75</td>\n",
       "      <td>0.79</td>\n",
       "      <td>32761</td>\n",
       "    </tr>\n",
       "    <tr>\n",
       "      <th>36481</th>\n",
       "      <td>4.81</td>\n",
       "      <td>0.79</td>\n",
       "      <td>36481</td>\n",
       "    </tr>\n",
       "  </tbody>\n",
       "</table>\n",
       "</div>"
      ],
      "text/plain": [
       "      Call Price Put Price No. of Paths\n",
       "1           4.69      0.81            1\n",
       "121         4.77      0.81          121\n",
       "441         4.70      0.83          441\n",
       "961         4.78      0.79          961\n",
       "1681        4.80      0.82         1681\n",
       "2601        4.76      0.82         2601\n",
       "3721        4.82      0.81         3721\n",
       "5041        4.76      0.82         5041\n",
       "6561        4.78      0.77         6561\n",
       "8281        4.77      0.86         8281\n",
       "10201       4.69      0.81        10201\n",
       "12321       4.76      0.82        12321\n",
       "14641       4.81      0.79        14641\n",
       "17161       4.77      0.82        17161\n",
       "19881       4.78      0.76        19881\n",
       "22801       4.77      0.80        22801\n",
       "25921       4.82      0.82        25921\n",
       "29241       4.87      0.83        29241\n",
       "32761       4.75      0.79        32761\n",
       "36481       4.81      0.79        36481"
      ]
     },
     "execution_count": 41,
     "metadata": {},
     "output_type": "execute_result"
    }
   ],
   "source": [
    "df"
   ]
  }
 ],
 "metadata": {
  "kernelspec": {
   "display_name": "Python 3",
   "language": "python",
   "name": "python3"
  },
  "language_info": {
   "codemirror_mode": {
    "name": "ipython",
    "version": 3
   },
   "file_extension": ".py",
   "mimetype": "text/x-python",
   "name": "python",
   "nbconvert_exporter": "python",
   "pygments_lexer": "ipython3",
   "version": "3.8.5"
  }
 },
 "nbformat": 4,
 "nbformat_minor": 4
}
